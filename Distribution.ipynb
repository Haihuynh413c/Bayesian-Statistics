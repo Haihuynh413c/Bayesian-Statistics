{
 "cells": [
  {
   "cell_type": "code",
   "execution_count": 1,
   "metadata": {},
   "outputs": [],
   "source": [
    "#Nếu chưa tải pandas và numpy thì xóa 2 dấu # ở dưới để tải và chạy import\n",
    "#pip install pandas\n",
    "#pip install numpy\n",
    "import pandas as pd\n",
    "import numpy as np"
   ]
  },
  {
   "cell_type": "code",
   "execution_count": 2,
   "metadata": {},
   "outputs": [],
   "source": [
    "np.random.seed(1) #Cố định random chỉ cho ra 1 kết quả giữ nguyên qua các lần chạy khác nhau.\n",
    "low = 1\n",
    "high = 7\n",
    "size = 101\n",
    "simulation = np.random.randint(low, high, size) \n",
    "#Gọi lệnh của gói numpy với randint là tạo ra 1 bộ dữ liệu số nguyên trong đó, tham số low là số thấp nhất ở đây là 1, \n",
    "#số cao nhất ở đây là 6 nhưng trong python không lấy giá trị tại đó\n",
    "#mà lấy ở n+1 nên high sẽ là 7. Size là số lần thực hiện ở đây là 100 lần và cũng lấy n+1"
   ]
  },
  {
   "cell_type": "code",
   "execution_count": 3,
   "metadata": {},
   "outputs": [
    {
     "name": "stdout",
     "output_type": "stream",
     "text": [
      "[6 4 5 1 2 4 6 1 1 2 5 6 5 2 3 5 6 3 5 4 5 3 5 6 3 5 2 2 1 6 2 2 6 2 2 1 5\n",
      " 2 1 1 6 4 3 2 1 4 6 2 2 4 5 1 2 4 5 3 5 1 6 4 2 3 1 5 2 3 3 2 1 2 4 6 5 4\n",
      " 6 2 4 1 1 3 3 2 4 5 3 1 1 2 2 6 4 1 1 6 6 5 6 3 5 4 6]\n"
     ]
    }
   ],
   "source": [
    "#Gọi bộ dữ liệu\n",
    "print(simulation)"
   ]
  },
  {
   "cell_type": "code",
   "execution_count": 4,
   "metadata": {
    "notebookRunGroups": {
     "groupValue": "1"
    }
   },
   "outputs": [
    {
     "data": {
      "text/plain": [
       "2    22\n",
       "1    18\n",
       "6    17\n",
       "5    17\n",
       "4    14\n",
       "3    13\n",
       "dtype: int64"
      ]
     },
     "execution_count": 4,
     "metadata": {},
     "output_type": "execute_result"
    }
   ],
   "source": [
    "#Thống kê số lần xuất hiện của các mặt từ 1 đến 6 với gói pandas\n",
    "pd.value_counts(simulation)"
   ]
  },
  {
   "cell_type": "code",
   "execution_count": 6,
   "metadata": {},
   "outputs": [
    {
     "name": "stdout",
     "output_type": "stream",
     "text": [
      "[2 1 0 1 2 2 0 1 0 1 1 2 1 1 2 2 2 3 1 1 3 3 1 2 1 2 2 1 2 1 1 2 2 1 1 1 2\n",
      " 3 0 2 1 3 0 0 1 3 4 1 3 2 2 3 3 1 0 2 1 3 2 3 1 3 3 0 3 0 1 3 1 0 1 1 2 2\n",
      " 1 1 0 1 2 1 4 0 2 2 2 2 2 2 2 1 1 0 1 3 3 3 1 2 2 1]\n"
     ]
    },
    {
     "data": {
      "text/plain": [
       "1    36\n",
       "2    31\n",
       "3    18\n",
       "0    13\n",
       "4     2\n",
       "dtype: int64"
      ]
     },
     "execution_count": 6,
     "metadata": {},
     "output_type": "execute_result"
    }
   ],
   "source": [
    "n = 5 #Số giá trị mô phỏng\n",
    "p = 0.3 #Xác suất của giá trị trên\n",
    "size = 100\n",
    "simulation2 = np.random.binomial(n, p, size)\n",
    "print(simulation2)\n",
    "pd.value_counts(simulation2)"
   ]
  },
  {
   "cell_type": "code",
   "execution_count": 8,
   "metadata": {},
   "outputs": [
    {
     "data": {
      "text/plain": [
       "array([-5.75274014e-02,  2.73099613e-02, -8.26087122e-02, -3.17884454e-02,\n",
       "       -1.74085792e-02,  1.10040966e-01, -1.28122532e-01,  1.35876265e-02,\n",
       "       -8.32649302e-02, -1.82372160e-01,  1.28973581e-02,  8.48738111e-03,\n",
       "       -2.69119334e-01, -2.15231343e-01,  1.08927659e-01,  7.00805399e-02,\n",
       "        3.92154236e-02,  3.97610515e-02,  1.68952805e-02, -6.00026786e-02,\n",
       "        2.02272747e-01,  6.70204578e-02, -2.64399782e-02, -3.18782641e-02,\n",
       "        2.59966978e-01,  1.44058842e-01,  1.10892917e-01, -6.30218645e-02,\n",
       "        2.21149029e-01,  2.12466920e-01,  1.64421557e-03,  1.00277972e-01,\n",
       "        1.13023959e-01,  1.91722525e-01,  1.13650254e-01, -4.95345314e-02,\n",
       "       -4.18884894e-02,  3.29654724e-02, -6.08605887e-02,  1.48171343e-01,\n",
       "        1.83843019e-02,  1.43995830e-01, -4.23808183e-02,  2.58313832e-02,\n",
       "       -3.92648507e-02, -1.98542558e-01,  6.35830838e-03, -1.49657393e-02,\n",
       "        8.23680908e-02,  6.45178380e-02,  1.31759920e-01,  7.50774024e-02,\n",
       "        5.56138208e-02, -9.85167976e-02, -1.74833493e-02, -6.77477412e-02,\n",
       "       -6.69266983e-02,  6.46431737e-02, -1.72726567e-02, -1.01925476e-01,\n",
       "       -9.97928414e-02, -7.56241146e-02, -1.33319859e-03,  1.30572797e-01,\n",
       "        4.27200605e-02,  1.15210575e-01,  1.06918851e-01, -2.43195527e-02,\n",
       "        1.09192781e-01,  3.79457005e-02, -3.61350862e-02,  4.53207975e-02,\n",
       "        7.87640224e-02, -2.44342290e-01, -4.28697398e-02, -1.34536933e-02,\n",
       "        9.85926887e-02,  8.28505766e-02, -1.81784249e-01,  7.71995222e-02,\n",
       "       -8.57858159e-02,  1.70515493e-01,  3.21888699e-02,  6.96388400e-02,\n",
       "       -7.05496034e-02, -1.44567637e-02,  2.03977907e-02, -1.71673099e-01,\n",
       "        1.18475114e-01,  6.38531675e-06,  7.51524521e-02,  5.44000894e-02,\n",
       "       -2.77535041e-02, -1.21815462e-01, -1.74217818e-01, -1.02892759e-01,\n",
       "        5.37960542e-02, -1.27211622e-01,  2.22455678e-01, -1.21160274e-02,\n",
       "        6.77671850e-02])"
      ]
     },
     "execution_count": 8,
     "metadata": {},
     "output_type": "execute_result"
    }
   ],
   "source": [
    "mean = 0\n",
    "sigma = 0.1\n",
    "size = 101\n",
    "simulation3 = np.random.normal(mean, sigma, size)\n",
    "simulation3"
   ]
  }
 ],
 "metadata": {
  "kernelspec": {
   "display_name": "Python 3.9.13 64-bit (microsoft store)",
   "language": "python",
   "name": "python3"
  },
  "language_info": {
   "codemirror_mode": {
    "name": "ipython",
    "version": 3
   },
   "file_extension": ".py",
   "mimetype": "text/x-python",
   "name": "python",
   "nbconvert_exporter": "python",
   "pygments_lexer": "ipython3",
   "version": "3.9.13"
  },
  "orig_nbformat": 4,
  "vscode": {
   "interpreter": {
    "hash": "f8f14f5a7c49a331ac7a55934b43ce13bd28be1333db14e2d71768ad3378996c"
   }
  }
 },
 "nbformat": 4,
 "nbformat_minor": 2
}
